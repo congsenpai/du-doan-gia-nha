{
 "cells": [
  {
   "cell_type": "code",
   "execution_count": 2,
   "metadata": {},
   "outputs": [
    {
     "name": "stdout",
     "output_type": "stream",
     "text": [
      "MSSubClass       0\n",
      "MSZoning         0\n",
      "LotFrontage      0\n",
      "LotArea          0\n",
      "Street           0\n",
      "                ..\n",
      "MoSold           0\n",
      "YrSold           0\n",
      "SaleType         0\n",
      "SaleCondition    0\n",
      "SalePrice        0\n",
      "Length: 80, dtype: int64\n",
      "Id               0\n",
      "MSSubClass       0\n",
      "MSZoning         0\n",
      "LotFrontage      0\n",
      "LotArea          0\n",
      "                ..\n",
      "MiscVal          0\n",
      "MoSold           0\n",
      "YrSold           0\n",
      "SaleType         0\n",
      "SaleCondition    0\n",
      "Length: 80, dtype: int64\n"
     ]
    }
   ],
   "source": [
    "import pickle\n",
    "import pandas as pd\n",
    "train=pd.read_csv(r\"D:\\Monhoc\\AI\\Code\\databaitapb3.csv\")\n",
    "test=pd.read_csv(r\"D:\\Monhoc\\AI\\Code\\test.csv\")\n",
    "# xóa cột ID\n",
    "train=train.drop(columns=['Id'])\n",
    "# thay tất cả các giá trị trống của cột lotFrontage bằng giá trị trung bình\n",
    "train['LotFrontage']=train['LotFrontage'].fillna(train['LotFrontage'].mean())\n",
    "test['LotFrontage']=test['LotFrontage'].fillna(test['LotFrontage'].mean())\n",
    "# thay tất cả các giá trị trống của 2 cột dưới đây bằng giá trị phổ biến nhất\n",
    "test['MSZoning']=test['MSZoning'].fillna('RL')\n",
    "test['SaleType']=test['SaleType'].fillna('WD')\n",
    "print(train.isnull().sum())\n",
    "print(test.isnull().sum())"
   ]
  },
  {
   "cell_type": "code",
   "execution_count": 3,
   "metadata": {},
   "outputs": [],
   "source": [
    "#  viết hàm biến đổi tất các các cột kiểu object thành kiểu int\n",
    "def convert_object_columns_to_int(df):\n",
    "    for col in df.columns:\n",
    "        if df[col].dtype == 'object':\n",
    "            df[col] = pd.factorize(df[col])[0]\n",
    "    return df\n",
    "def encoded_input_data(df):\n",
    "    df['MSSubClass']=df['MSSubClass'].astype('object')\n",
    "    df['YrSold']=df['YrSold'].astype('object')\n",
    "    df['LotFrontage']=df['LotFrontage'].astype('float')\n",
    "    convert_object_columns_to_int(df)\n",
    "    return df\n",
    "encoded_input_data(train)\n",
    "encoded_input_data(test)\n",
    "# điền tất cả các giá trị còn thiếu bằng giá trị trung bình\n",
    "train.fillna(train.mean(),inplace=True)\n",
    "test.fillna(train.mean(),inplace=True)\n"
   ]
  },
  {
   "cell_type": "code",
   "execution_count": 4,
   "metadata": {},
   "outputs": [
    {
     "name": "stdout",
     "output_type": "stream",
     "text": [
      "Mean Squared Error: 884467233.5410237\n"
     ]
    }
   ],
   "source": [
    "from sklearn.model_selection import train_test_split\n",
    "\n",
    "# Chia dữ liệu thành hai phần: 80% dữ liệu để train và 20% để test\n",
    "train_data, test_data = train_test_split(train, test_size=0.2, random_state=42)\n",
    "from sklearn.ensemble import RandomForestRegressor\n",
    "\n",
    "# Tách biến phụ thuộc (y) và biến độc lập (X) trong tập huấn luyện\n",
    "X_train = train_data.drop(columns=['SalePrice'])\n",
    "y_train = train_data['SalePrice']\n",
    "\n",
    "# Huấn luyện mô hình Random Forest 1 \n",
    "rf_model = RandomForestRegressor(n_estimators=100, random_state=42)\n",
    "rf_model.fit(X_train, y_train)\n",
    "from sklearn.metrics import mean_squared_error\n",
    "# Tách biến phụ thuộc (y) và biến độc lập (X) trong tập kiểm tra\n",
    "X_test = test_data.drop(columns=['SalePrice'])\n",
    "y_test = test_data['SalePrice']\n",
    "\n",
    "# Đánh giá hiệu suất của mô hình 1 trên tập kiểm tra\n",
    "y_pred = rf_model.predict(X_test)\n",
    "mse = mean_squared_error(y_test, y_pred)\n",
    "print(\"Mean Squared Error:\", mse)"
   ]
  },
  {
   "cell_type": "code",
   "execution_count": 5,
   "metadata": {},
   "outputs": [
    {
     "name": "stdout",
     "output_type": "stream",
     "text": [
      "        Id    SalePrice\n",
      "0     1461  [134736.88]\n",
      "1     1462   [158577.5]\n",
      "2     1463   [185447.5]\n",
      "3     1464  [194294.52]\n",
      "4     1465  [216363.68]\n",
      "...    ...          ...\n",
      "1454  2915   [89372.25]\n",
      "1455  2916    [94398.0]\n",
      "1456  2917  [161352.74]\n",
      "1457  2918   [115291.5]\n",
      "1458  2919   [224718.1]\n",
      "\n",
      "[1459 rows x 2 columns]\n"
     ]
    }
   ],
   "source": [
    "def predictFunction(id):\n",
    "    row = test.loc[test['Id'] == id]\n",
    "    row=row.drop(columns=['Id'])\n",
    "    lmao=rf_model.predict(row)\n",
    "    return lmao\n",
    "result_df = pd.DataFrame()\n",
    "# Áp dụng hàm predictFunction cho mỗi giá trị Id và lưu kết quả vào DataFrame mới\n",
    "result_df['Id'] = test['Id']  # Sử dụng cột Id từ DataFrame gốc\n",
    "result_df['SalePrice'] = test['Id'].apply(predictFunction)\n",
    "print(result_df)\n",
    "result_df['SalePrice']=result_df['SalePrice'].astype(float)\n",
    "result_df.to_csv('ket_qua_du_doan.csv', index=False)\n"
   ]
  },
  {
   "cell_type": "code",
   "execution_count": 6,
   "metadata": {},
   "outputs": [],
   "source": [
    "with open(\"random-forest-regressor.pkl\", \"wb\") as f:\n",
    "    pickle.dump(rf_model, f)\n",
    "with open(\"logistic.pkl\", \"wb\") as m:\n",
    "    pickle.dump(rf_model, m)"
   ]
  }
 ],
 "metadata": {
  "kernelspec": {
   "display_name": ".venv",
   "language": "python",
   "name": "python3"
  },
  "language_info": {
   "codemirror_mode": {
    "name": "ipython",
    "version": 3
   },
   "file_extension": ".py",
   "mimetype": "text/x-python",
   "name": "python",
   "nbconvert_exporter": "python",
   "pygments_lexer": "ipython3",
   "version": "3.10.0"
  }
 },
 "nbformat": 4,
 "nbformat_minor": 2
}
